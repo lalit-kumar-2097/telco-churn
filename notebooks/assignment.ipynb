import pandas as pd
import matplotlib.pyplot as plt

df = pd.read_csv('../data/telco_churn_raw.csv')

def churn_rate_by_category(df, category):    
    return (
        df['Churn']
        .groupby(df[category])
        .value_counts(normalize=True)
        .unstack() * 100        
    ).sort_values(by='Yes', ascending=False)


PaymentMethod_churn = churn_rate_by_category(df, 'PaymentMethod')
InternetService_churn = churn_rate_by_category(df, 'InternetService')
TechSupport_churn = churn_rate_by_category(df, 'TechSupport')

Tenure_churn = (
    df['Churn']
    .groupby(pd.cut(df['tenure'], bins=[0, 12, 24, 36, 48, 60, 72], right=False), observed=False)
    .value_counts(normalize=True)
    .unstack() * 100    
).sort_values(by='Yes', ascending=False)

# For bucketing MontlyCharges into Low, Medium, High
def charge_bucket(charge):
    if charge < 45:
        return 'Low'
    elif charge < 80:
        return 'Medium'
    else:
        return 'High'
df['ChargeGroup'] = df['MonthlyCharges'].apply(charge_bucket)
ChargeGroup_churn = churn_rate_by_category(df, 'ChargeGroup')

# Churn Rate by Monthly Charge Group
print("Churn Rate by Charge Group:")
print(ChargeGroup_churn)
ChargeGroup_churn.plot(kind='bar', stacked=True, figsize=(14, 8))
plt.title('Churn Rate by Monthly Charge Group')
plt.xlabel('Charge Group')
plt.ylabel('Churn Rate (%)')
plt.xticks(rotation=45)
plt.legend(title='Churn', loc='upper right')
plt.tight_layout()
plt.show()


#Visualization

# Churn Rate by Internet Service
print("Churn Rate by Internet Service:")
print(InternetService_churn)
InternetService_churn.plot(kind='bar', stacked=True, figsize=(14, 8))
plt.title('Churn Rate by Internet Service')
plt.xlabel('Internet Service')
plt.ylabel('Churn Rate (%)')
plt.xticks(rotation=45)
plt.legend(title='Churn', loc='upper right')
plt.tight_layout()
plt.show()
print('Interpretation of the churn rate by Internet Service')
print("Customers with Fiber Optic Internet Service have the highest churn rate, indicating potential dissatisfaction with this service type. In contrast, those with DSL or No Internet Service show lower churn rates, suggesting greater retention among these groups.")



# Churn Rate by Payment Method
print("Churn Rate by Payment Method:")
print(PaymentMethod_churn)
PaymentMethod_churn.plot(kind='bar', stacked=True, figsize=(14, 8))
plt.tight_layout()
plt.title('Churn Rate by Payment Method')
plt.xlabel('Payment Method')
plt.ylabel('Churn Rate (%)')
plt.xticks(rotation=45)
plt.legend(title='Churn', loc='upper right')
plt.tight_layout()
plt.show()
print('Interpretation of the churn rate by Payment Method')
print("Customers using Electronic Check as a payment method exhibit the highest churn rate, indicating potential issues with this payment option. In contrast, those using Bank Transfer (Automatic) or Credit Card (Automatic) show significantly lower churn rates, suggesting these methods are more favorable for customer retention.")

# Churn Rate by Tech Support
print("Churn Rate by Tech Support:")
print(TechSupport_churn)
TechSupport_churn.plot(kind='bar', stacked=True, figsize=(14, 8))
plt.title('Churn Rate by Tech Support')
plt.xlabel('Tech Support')
plt.ylabel('Churn Rate (%)')
plt.xticks(rotation=45)
plt.legend(title='Churn', loc='upper right')
plt.tight_layout()
plt.show()
print('Interpretation of the churn rate by Tech Support')
print("Customers who do not have Tech Support show a significantly higher churn rate compared to those who do. This suggests that providing Tech Support is crucial for customer retention, as it likely enhances customer satisfaction and reduces the likelihood of churn.")

# Churn Rate by Tenure
print("Churn Rate by Tenure:")
print(Tenure_churn)
Tenure_churn.plot(kind='bar', stacked=True, figsize=(22, 8))
plt.title('Churn Rate by Tenure')
plt.xlabel('Tenure (Months)')
plt.ylabel('Churn Rate (%)')
plt.xticks(rotation=45)
plt.legend(title='Churn', loc='upper right')
plt.tight_layout()
plt.show()
print('Interpretation of the churn rate by Tenure')
print("Churn rates decrease significantly with increasing tenure. Customers with less than 12 months of tenure exhibit the highest churn rate, while those with 60 months or more show the lowest. This indicates that longer-tenured customers are more likely to remain loyal, suggesting that retention strategies should focus on early-stage customers to reduce churn.")


